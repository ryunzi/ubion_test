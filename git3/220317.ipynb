{
 "cells": [
  {
   "cell_type": "code",
   "execution_count": 1,
   "metadata": {},
   "outputs": [],
   "source": [
    "from pymongo import MongoClient\n",
    "#pymongo에 있는 mongoclient라는 클래스만 가져옴"
   ]
  },
  {
   "cell_type": "code",
   "execution_count": 2,
   "metadata": {},
   "outputs": [],
   "source": [
    "client = MongoClient(\n",
    "\n",
    "    host = 'localhost',\n",
    "    port = 27017\n",
    "    \n",
    ")\n",
    "#client라는 변수를 사용해서 mongodb에 접속할 수 있는 mongoclient 클래스 생성"
   ]
  },
  {
   "cell_type": "code",
   "execution_count": 3,
   "metadata": {},
   "outputs": [
    {
     "data": {
      "text/plain": [
       "['admin', 'config', 'local', 'ubion']"
      ]
     },
     "execution_count": 3,
     "metadata": {},
     "output_type": "execute_result"
    }
   ],
   "source": [
    "client.list_database_names()\n",
    "#클래스에 있는 함수 method를 불러오기 위해 client.~"
   ]
  },
  {
   "cell_type": "code",
   "execution_count": 10,
   "metadata": {},
   "outputs": [
    {
     "data": {
      "text/plain": [
       "[{'_id': ObjectId('62328e7fddd256c50fce1f09'),\n",
       "  'name': 'test',\n",
       "  'phone': '01012345678'},\n",
       " {'_id': ObjectId('6232905cddd256c50fce1f0b'), 'loc': 'Seoul'},\n",
       " {'_id': ObjectId('6232905cddd256c50fce1f0c'), 'gender': 'male'},\n",
       " {'_id': ObjectId('6232905cddd256c50fce1f0d'), 'age': 20.0, 'hobby': 'soccer'},\n",
       " {'_id': ObjectId('6232919fddd256c50fce1f0e'), 'name': 'test2', 'age': 30.0},\n",
       " {'_id': ObjectId('62329d9fbdc6f3b8488536ba'), '1': '1', '2': '7', '3': '3'},\n",
       " {'_id': ObjectId('62329db0bdc6f3b8488536bb'), '뽀로로': 'm'},\n",
       " {'_id': ObjectId('62329db0bdc6f3b8488536bc'), '크롱': 'm'},\n",
       " {'_id': ObjectId('62329db0bdc6f3b8488536bd'), '루피': 'w'},\n",
       " {'_id': ObjectId('62329db0bdc6f3b8488536be'), '에디': 'm'},\n",
       " {'_id': ObjectId('62329db0bdc6f3b8488536bf'), '포비': 'm'},\n",
       " {'_id': ObjectId('6233ce745634cc8235cdaf4a'), '1': '1', '2': '7', '3': '3'},\n",
       " {'_id': ObjectId('6233ce745634cc8235cdaf4b'), '뽀로로': 'm'},\n",
       " {'_id': ObjectId('6233ce745634cc8235cdaf4c'), '크롱': 'm'},\n",
       " {'_id': ObjectId('6233ce745634cc8235cdaf4d'), '루피': 'w'},\n",
       " {'_id': ObjectId('6233ce745634cc8235cdaf4e'), '에디': 'm'},\n",
       " {'_id': ObjectId('6233ce745634cc8235cdaf4f'), '포비': 'm'},\n",
       " {'_id': ObjectId('6233d1b95634cc8235cdaf51'), '1': '1', '2': '7', '3': '3'},\n",
       " {'_id': ObjectId('6233d1ba5634cc8235cdaf52'), '뽀로로': 'm'},\n",
       " {'_id': ObjectId('6233d1ba5634cc8235cdaf53'), '크롱': 'm'},\n",
       " {'_id': ObjectId('6233d1ba5634cc8235cdaf54'), '루피': 'w'},\n",
       " {'_id': ObjectId('6233d1ba5634cc8235cdaf55'), '에디': 'm'},\n",
       " {'_id': ObjectId('6233d1ba5634cc8235cdaf56'), '포비': 'm'},\n",
       " {'_id': ObjectId('62341f32dba054f4eac8b6c2'), '1': '1', '2': '7', '3': '3'},\n",
       " {'_id': ObjectId('62341f32dba054f4eac8b6c3'), '뽀로로': 'm'},\n",
       " {'_id': ObjectId('62341f32dba054f4eac8b6c4'), '크롱': 'm'},\n",
       " {'_id': ObjectId('62341f32dba054f4eac8b6c5'), '루피': 'w'},\n",
       " {'_id': ObjectId('62341f32dba054f4eac8b6c6'), '에디': 'm'},\n",
       " {'_id': ObjectId('62341f32dba054f4eac8b6c7'), '포비': 'm'},\n",
       " {'_id': ObjectId('62341f40dba054f4eac8b6c9'), '1': '1', '2': '7', '3': '3'},\n",
       " {'_id': ObjectId('62341f40dba054f4eac8b6ca'), '뽀로로': 'm'},\n",
       " {'_id': ObjectId('62341f40dba054f4eac8b6cb'), '크롱': 'm'},\n",
       " {'_id': ObjectId('62341f40dba054f4eac8b6cc'), '루피': 'w'},\n",
       " {'_id': ObjectId('62341f40dba054f4eac8b6cd'), '에디': 'm'},\n",
       " {'_id': ObjectId('62341f40dba054f4eac8b6ce'), '포비': 'm'},\n",
       " {'_id': ObjectId('62341f50dba054f4eac8b6d0'), '1': '1', '2': '7', '3': '3'},\n",
       " {'_id': ObjectId('62341f50dba054f4eac8b6d1'), '뽀로로': 'm'},\n",
       " {'_id': ObjectId('62341f50dba054f4eac8b6d2'), '크롱': 'm'},\n",
       " {'_id': ObjectId('62341f50dba054f4eac8b6d3'), '루피': 'w'},\n",
       " {'_id': ObjectId('62341f50dba054f4eac8b6d4'), '에디': 'm'},\n",
       " {'_id': ObjectId('62341f50dba054f4eac8b6d5'), '포비': 'm'},\n",
       " {'_id': ObjectId('62341f64dba054f4eac8b6d7'), '1': '1', '2': '7', '3': '3'},\n",
       " {'_id': ObjectId('62341f64dba054f4eac8b6d8'), '뽀로로': 'm'},\n",
       " {'_id': ObjectId('62341f64dba054f4eac8b6d9'), '크롱': 'm'},\n",
       " {'_id': ObjectId('62341f64dba054f4eac8b6da'), '루피': 'w'},\n",
       " {'_id': ObjectId('62341f64dba054f4eac8b6db'), '에디': 'm'},\n",
       " {'_id': ObjectId('62341f64dba054f4eac8b6dc'), '포비': 'm'},\n",
       " {'_id': ObjectId('62341f7edba054f4eac8b6de'), '1': '1', '2': '7', '3': '3'},\n",
       " {'_id': ObjectId('62341f7edba054f4eac8b6df'), '뽀로로': 'm'},\n",
       " {'_id': ObjectId('62341f7edba054f4eac8b6e0'), '크롱': 'm'},\n",
       " {'_id': ObjectId('62341f7edba054f4eac8b6e1'), '루피': 'w'},\n",
       " {'_id': ObjectId('62341f7edba054f4eac8b6e2'), '에디': 'm'},\n",
       " {'_id': ObjectId('62341f7edba054f4eac8b6e3'), '포비': 'm'},\n",
       " {'_id': ObjectId('62342a32dba054f4eac8b6e5'), '1': '1', '2': '7', '3': '3'},\n",
       " {'_id': ObjectId('62342a33dba054f4eac8b6e6'), '뽀로로': 'm'},\n",
       " {'_id': ObjectId('62342a33dba054f4eac8b6e7'), '크롱': 'm'},\n",
       " {'_id': ObjectId('62342a33dba054f4eac8b6e8'), '루피': 'w'},\n",
       " {'_id': ObjectId('62342a33dba054f4eac8b6e9'), '에디': 'm'},\n",
       " {'_id': ObjectId('62342a33dba054f4eac8b6ea'), '포비': 'm'},\n",
       " {'_id': ObjectId('62342b5a520dad031d2e754c'), '1': '1', '2': '7', '3': '3'},\n",
       " {'_id': ObjectId('62342b5a520dad031d2e754d'), '뽀로로': 'm'},\n",
       " {'_id': ObjectId('62342b5a520dad031d2e754e'), '크롱': 'm'},\n",
       " {'_id': ObjectId('62342b5a520dad031d2e754f'), '루피': 'w'},\n",
       " {'_id': ObjectId('62342b5a520dad031d2e7550'), '에디': 'm'},\n",
       " {'_id': ObjectId('62342b5a520dad031d2e7551'), '포비': 'm'}]"
      ]
     },
     "execution_count": 10,
     "metadata": {},
     "output_type": "execute_result"
    }
   ],
   "source": [
    "db = client[\"ubion\"] \n",
    "list(db[\"test\"].find())\n",
    "#sql; SELECT * FROM test "
   ]
  },
  {
   "cell_type": "code",
   "execution_count": 5,
   "metadata": {},
   "outputs": [
    {
     "data": {
      "text/plain": [
       "<pymongo.results.InsertOneResult at 0x1ff8784d8c0>"
      ]
     },
     "execution_count": 5,
     "metadata": {},
     "output_type": "execute_result"
    }
   ],
   "source": [
    "data = {\n",
    "    \"1\" : \"1\",\n",
    "    \"2\" : \"7\",\n",
    "    \"3\" : \"3\"\n",
    "}\n",
    "db.test.insert_one(data)\n",
    "#sql; INSERT INTO test VALUE (VALUES 안됨! 하나만 뽑는거임 이거는)"
   ]
  },
  {
   "cell_type": "code",
   "execution_count": 6,
   "metadata": {},
   "outputs": [],
   "source": [
    "###data변수 만들어서 insert_many 사용해보기"
   ]
  },
  {
   "cell_type": "code",
   "execution_count": 11,
   "metadata": {},
   "outputs": [
    {
     "data": {
      "text/plain": [
       "<pymongo.results.InsertManyResult at 0x1ff90b24940>"
      ]
     },
     "execution_count": 11,
     "metadata": {},
     "output_type": "execute_result"
    }
   ],
   "source": [
    "data_2 = [\n",
    "    {\"뽀로로\" : \"m\"},\n",
    "    {\"크롱\" : \"m\"},\n",
    "    {\"루피\" : \"w\"},\n",
    "    {\"에디\" : \"m\"},\n",
    "    {\"포비\" : \"m\"}\n",
    "]\n",
    "db.test.insert_many(data_2)"
   ]
  },
  {
   "cell_type": "code",
   "execution_count": 12,
   "metadata": {},
   "outputs": [],
   "source": [
    "import pandas as pd\n"
   ]
  },
  {
   "cell_type": "code",
   "execution_count": 14,
   "metadata": {},
   "outputs": [
    {
     "ename": "TypeError",
     "evalue": "'Collection' object is not callable. If you meant to call the 'executeAll' method on a 'Database' object it is failing because no such method exists.",
     "output_type": "error",
     "traceback": [
      "\u001b[1;31m---------------------------------------------------------------------------\u001b[0m",
      "\u001b[1;31mTypeError\u001b[0m                                 Traceback (most recent call last)",
      "\u001b[1;32mc:\\Users\\LG\\Desktop\\220317.ipynb Cell 9'\u001b[0m in \u001b[0;36m<cell line: 4>\u001b[1;34m()\u001b[0m\n\u001b[0;32m      <a href='vscode-notebook-cell:/c%3A/Users/LG/Desktop/220317.ipynb#ch0000008?line=0'>1</a>\u001b[0m sql \u001b[39m=\u001b[39m \u001b[39m\"\"\"\u001b[39m\n\u001b[0;32m      <a href='vscode-notebook-cell:/c%3A/Users/LG/Desktop/220317.ipynb#ch0000008?line=1'>2</a>\u001b[0m \u001b[39m     SELECT * FROM emp   \u001b[39m\n\u001b[0;32m      <a href='vscode-notebook-cell:/c%3A/Users/LG/Desktop/220317.ipynb#ch0000008?line=2'>3</a>\u001b[0m \u001b[39m    \u001b[39m\u001b[39m\"\"\"\u001b[39m\n\u001b[1;32m----> <a href='vscode-notebook-cell:/c%3A/Users/LG/Desktop/220317.ipynb#ch0000008?line=3'>4</a>\u001b[0m result \u001b[39m=\u001b[39m db\u001b[39m.\u001b[39;49mexecuteAll(sql)\n\u001b[0;32m      <a href='vscode-notebook-cell:/c%3A/Users/LG/Desktop/220317.ipynb#ch0000008?line=4'>5</a>\u001b[0m pd\u001b[39m.\u001b[39mDataFrame(result)\u001b[39m.\u001b[39mto_csv(\u001b[39m\"\u001b[39m\u001b[39memp.csv\u001b[39m\u001b[39m\"\u001b[39m)\n",
      "File \u001b[1;32m~\\AppData\\Local\\Programs\\Python\\Python39\\lib\\site-packages\\pymongo\\collection.py:2773\u001b[0m, in \u001b[0;36mCollection.__call__\u001b[1;34m(self, *args, **kwargs)\u001b[0m\n\u001b[0;32m   <a href='file:///c%3A/Users/LG/AppData/Local/Programs/Python/Python39/lib/site-packages/pymongo/collection.py?line=2770'>2771</a>\u001b[0m \u001b[39m\"\"\"This is only here so that some API misusages are easier to debug.\"\"\"\u001b[39;00m\n\u001b[0;32m   <a href='file:///c%3A/Users/LG/AppData/Local/Programs/Python/Python39/lib/site-packages/pymongo/collection.py?line=2771'>2772</a>\u001b[0m \u001b[39mif\u001b[39;00m \u001b[39m\"\u001b[39m\u001b[39m.\u001b[39m\u001b[39m\"\u001b[39m \u001b[39mnot\u001b[39;00m \u001b[39min\u001b[39;00m \u001b[39mself\u001b[39m\u001b[39m.\u001b[39m__name:\n\u001b[1;32m-> <a href='file:///c%3A/Users/LG/AppData/Local/Programs/Python/Python39/lib/site-packages/pymongo/collection.py?line=2772'>2773</a>\u001b[0m     \u001b[39mraise\u001b[39;00m \u001b[39mTypeError\u001b[39;00m(\n\u001b[0;32m   <a href='file:///c%3A/Users/LG/AppData/Local/Programs/Python/Python39/lib/site-packages/pymongo/collection.py?line=2773'>2774</a>\u001b[0m         \u001b[39m\"\u001b[39m\u001b[39m'\u001b[39m\u001b[39mCollection\u001b[39m\u001b[39m'\u001b[39m\u001b[39m object is not callable. If you \u001b[39m\u001b[39m\"\u001b[39m\n\u001b[0;32m   <a href='file:///c%3A/Users/LG/AppData/Local/Programs/Python/Python39/lib/site-packages/pymongo/collection.py?line=2774'>2775</a>\u001b[0m         \u001b[39m\"\u001b[39m\u001b[39mmeant to call the \u001b[39m\u001b[39m'\u001b[39m\u001b[39m%s\u001b[39;00m\u001b[39m'\u001b[39m\u001b[39m method on a \u001b[39m\u001b[39m'\u001b[39m\u001b[39mDatabase\u001b[39m\u001b[39m'\u001b[39m\u001b[39m \u001b[39m\u001b[39m\"\u001b[39m\n\u001b[0;32m   <a href='file:///c%3A/Users/LG/AppData/Local/Programs/Python/Python39/lib/site-packages/pymongo/collection.py?line=2775'>2776</a>\u001b[0m         \u001b[39m\"\u001b[39m\u001b[39mobject it is failing because no such method \u001b[39m\u001b[39m\"\u001b[39m\n\u001b[0;32m   <a href='file:///c%3A/Users/LG/AppData/Local/Programs/Python/Python39/lib/site-packages/pymongo/collection.py?line=2776'>2777</a>\u001b[0m         \u001b[39m\"\u001b[39m\u001b[39mexists.\u001b[39m\u001b[39m\"\u001b[39m \u001b[39m%\u001b[39m \u001b[39mself\u001b[39m\u001b[39m.\u001b[39m__name\n\u001b[0;32m   <a href='file:///c%3A/Users/LG/AppData/Local/Programs/Python/Python39/lib/site-packages/pymongo/collection.py?line=2777'>2778</a>\u001b[0m     )\n\u001b[0;32m   <a href='file:///c%3A/Users/LG/AppData/Local/Programs/Python/Python39/lib/site-packages/pymongo/collection.py?line=2778'>2779</a>\u001b[0m \u001b[39mraise\u001b[39;00m \u001b[39mTypeError\u001b[39;00m(\n\u001b[0;32m   <a href='file:///c%3A/Users/LG/AppData/Local/Programs/Python/Python39/lib/site-packages/pymongo/collection.py?line=2779'>2780</a>\u001b[0m     \u001b[39m\"\u001b[39m\u001b[39m'\u001b[39m\u001b[39mCollection\u001b[39m\u001b[39m'\u001b[39m\u001b[39m object is not callable. If you meant to \u001b[39m\u001b[39m\"\u001b[39m\n\u001b[0;32m   <a href='file:///c%3A/Users/LG/AppData/Local/Programs/Python/Python39/lib/site-packages/pymongo/collection.py?line=2780'>2781</a>\u001b[0m     \u001b[39m\"\u001b[39m\u001b[39mcall the \u001b[39m\u001b[39m'\u001b[39m\u001b[39m%s\u001b[39;00m\u001b[39m'\u001b[39m\u001b[39m method on a \u001b[39m\u001b[39m'\u001b[39m\u001b[39mCollection\u001b[39m\u001b[39m'\u001b[39m\u001b[39m object it is \u001b[39m\u001b[39m\"\u001b[39m\n\u001b[0;32m   <a href='file:///c%3A/Users/LG/AppData/Local/Programs/Python/Python39/lib/site-packages/pymongo/collection.py?line=2781'>2782</a>\u001b[0m     \u001b[39m\"\u001b[39m\u001b[39mfailing because no such method exists.\u001b[39m\u001b[39m\"\u001b[39m \u001b[39m%\u001b[39m \u001b[39mself\u001b[39m\u001b[39m.\u001b[39m__name\u001b[39m.\u001b[39msplit(\u001b[39m\"\u001b[39m\u001b[39m.\u001b[39m\u001b[39m\"\u001b[39m)[\u001b[39m-\u001b[39m\u001b[39m1\u001b[39m]\n\u001b[0;32m   <a href='file:///c%3A/Users/LG/AppData/Local/Programs/Python/Python39/lib/site-packages/pymongo/collection.py?line=2782'>2783</a>\u001b[0m )\n",
      "\u001b[1;31mTypeError\u001b[0m: 'Collection' object is not callable. If you meant to call the 'executeAll' method on a 'Database' object it is failing because no such method exists."
     ]
    }
   ],
   "source": [
    "sql = \"\"\"\n",
    "     SELECT * FROM emp   \n",
    "    \"\"\"\n",
    "result = _db.executeAll(sql)\n",
    "pd.DataFrame(result).to_csv(\"emp.csv\")\n"
   ]
  },
  {
   "cell_type": "code",
   "execution_count": null,
   "metadata": {},
   "outputs": [
    {
     "data": {
      "text/plain": [
       "{'_id': ObjectId('6232b730b0fe2ce985b6d3a7'),\n",
       " '': '0',\n",
       " 'EMPNO': '7369',\n",
       " 'ENAME': 'SMITH',\n",
       " 'JOB': 'CLERK',\n",
       " 'MGR': '7902',\n",
       " 'HIREDATE': '1980-12-17',\n",
       " 'SAL': '800.00',\n",
       " 'DEPTNO': '20'}"
      ]
     },
     "execution_count": 45,
     "metadata": {},
     "output_type": "execute_result"
    }
   ],
   "source": [
    "db.emp.find_one()"
   ]
  },
  {
   "cell_type": "code",
   "execution_count": null,
   "metadata": {},
   "outputs": [
    {
     "data": {
      "text/plain": [
       "[{'_id': ObjectId('6232b730b0fe2ce985b6d3a7'),\n",
       "  '': '0',\n",
       "  'EMPNO': '7369',\n",
       "  'ENAME': 'SMITH',\n",
       "  'JOB': 'CLERK',\n",
       "  'MGR': '7902',\n",
       "  'HIREDATE': '1980-12-17',\n",
       "  'SAL': '800.00',\n",
       "  'DEPTNO': '20'}]"
      ]
     },
     "execution_count": 47,
     "metadata": {},
     "output_type": "execute_result"
    }
   ],
   "source": [
    "list(db.emp.find(\n",
    "    {\n",
    "        \"ENAME\" : \"SMITH\"\n",
    "    }\n",
    "))\n",
    "#SELECT * FROM emp WHERE ENAME = \"SMITH\""
   ]
  },
  {
   "cell_type": "code",
   "execution_count": null,
   "metadata": {},
   "outputs": [
    {
     "data": {
      "text/plain": [
       "[{'_id': ObjectId('6232b730b0fe2ce985b6d3a7'),\n",
       "  'EMPNO': '7369',\n",
       "  'ENAME': 'SMITH',\n",
       "  'DEPTNO': '20'},\n",
       " {'_id': ObjectId('6232b730b0fe2ce985b6d3a8'),\n",
       "  'EMPNO': '7499',\n",
       "  'ENAME': 'ALLEN',\n",
       "  'DEPTNO': '30'},\n",
       " {'_id': ObjectId('6232b730b0fe2ce985b6d3a9'),\n",
       "  'EMPNO': '7521',\n",
       "  'ENAME': 'WARD',\n",
       "  'DEPTNO': '30'},\n",
       " {'_id': ObjectId('6232b730b0fe2ce985b6d3aa'),\n",
       "  'EMPNO': '7566',\n",
       "  'ENAME': 'JONES',\n",
       "  'DEPTNO': '20'},\n",
       " {'_id': ObjectId('6232b730b0fe2ce985b6d3ab'),\n",
       "  'EMPNO': '7654',\n",
       "  'ENAME': 'MARTIN',\n",
       "  'DEPTNO': '30'},\n",
       " {'_id': ObjectId('6232b730b0fe2ce985b6d3ac'),\n",
       "  'EMPNO': '7698',\n",
       "  'ENAME': 'BLAKE',\n",
       "  'DEPTNO': '30'},\n",
       " {'_id': ObjectId('6232b730b0fe2ce985b6d3ad'),\n",
       "  'EMPNO': '7782',\n",
       "  'ENAME': 'CLARK',\n",
       "  'DEPTNO': '10'},\n",
       " {'_id': ObjectId('6232b730b0fe2ce985b6d3ae'),\n",
       "  'EMPNO': '7788',\n",
       "  'ENAME': 'SCOTT',\n",
       "  'DEPTNO': '20'},\n",
       " {'_id': ObjectId('6232b730b0fe2ce985b6d3af'),\n",
       "  'EMPNO': '7839',\n",
       "  'ENAME': 'KING',\n",
       "  'DEPTNO': '10'},\n",
       " {'_id': ObjectId('6232b730b0fe2ce985b6d3b0'),\n",
       "  'EMPNO': '7844',\n",
       "  'ENAME': 'TURNER',\n",
       "  'DEPTNO': '30'},\n",
       " {'_id': ObjectId('6232b730b0fe2ce985b6d3b1'),\n",
       "  'EMPNO': '7876',\n",
       "  'ENAME': 'ADAMS',\n",
       "  'DEPTNO': '20'},\n",
       " {'_id': ObjectId('6232b730b0fe2ce985b6d3b2'),\n",
       "  'EMPNO': '7900',\n",
       "  'ENAME': 'JAMES',\n",
       "  'DEPTNO': '30'},\n",
       " {'_id': ObjectId('6232b730b0fe2ce985b6d3b3'),\n",
       "  'EMPNO': '7902',\n",
       "  'ENAME': 'FORD',\n",
       "  'DEPTNO': '20'},\n",
       " {'_id': ObjectId('6232b730b0fe2ce985b6d3b4'),\n",
       "  'EMPNO': '7934',\n",
       "  'ENAME': 'MILLER',\n",
       "  'DEPTNO': '10'}]"
      ]
     },
     "execution_count": 49,
     "metadata": {},
     "output_type": "execute_result"
    }
   ],
   "source": [
    "#emp collection; key값=EMPNO, ENAME, DEPTNO 추출\n",
    "list(db.emp.find(\n",
    "    {},              #WHERE절-where 조건문 쓸 때 사용하는 공간\n",
    "    {\"EMPNO\": 1,     #COLUMN절-key값을 선택할 수 있는 공간\n",
    "     \"ENAME\": 1,\n",
    "    \"DEPTNO\": 1}     \n",
    "))\n",
    "#sql-SELECT문\n",
    "#SELECT EMPNO, ENAME, DEPTNO FROM emp"
   ]
  },
  {
   "cell_type": "code",
   "execution_count": null,
   "metadata": {},
   "outputs": [
    {
     "data": {
      "text/plain": [
       "[{'_id': ObjectId('6232b730b0fe2ce985b6d3b1'),\n",
       "  '': '10',\n",
       "  'EMPNO': '7876',\n",
       "  'ENAME': 'ADAMS',\n",
       "  'JOB': 'CLERK',\n",
       "  'MGR': '7788',\n",
       "  'HIREDATE': '1987-07-13',\n",
       "  'SAL': '1100.00',\n",
       "  'DEPTNO': '20'},\n",
       " {'_id': ObjectId('6232b730b0fe2ce985b6d3a8'),\n",
       "  '': '1',\n",
       "  'EMPNO': '7499',\n",
       "  'ENAME': 'ALLEN',\n",
       "  'JOB': 'SALESMAN',\n",
       "  'MGR': '7698',\n",
       "  'HIREDATE': '1981-02-20',\n",
       "  'SAL': '1600.00',\n",
       "  'COMM': '300.00',\n",
       "  'DEPTNO': '30'},\n",
       " {'_id': ObjectId('6232b730b0fe2ce985b6d3ac'),\n",
       "  '': '5',\n",
       "  'EMPNO': '7698',\n",
       "  'ENAME': 'BLAKE',\n",
       "  'JOB': 'MANAGER',\n",
       "  'MGR': '7839',\n",
       "  'HIREDATE': '1981-05-01',\n",
       "  'SAL': '2850.00',\n",
       "  'DEPTNO': '30'},\n",
       " {'_id': ObjectId('6232b730b0fe2ce985b6d3ad'),\n",
       "  '': '6',\n",
       "  'EMPNO': '7782',\n",
       "  'ENAME': 'CLARK',\n",
       "  'JOB': 'MANAGER',\n",
       "  'MGR': '7839',\n",
       "  'HIREDATE': '1981-06-09',\n",
       "  'SAL': '2450.00',\n",
       "  'DEPTNO': '10'},\n",
       " {'_id': ObjectId('6232b730b0fe2ce985b6d3b3'),\n",
       "  '': '12',\n",
       "  'EMPNO': '7902',\n",
       "  'ENAME': 'FORD',\n",
       "  'JOB': 'ANALYST',\n",
       "  'MGR': '7566',\n",
       "  'HIREDATE': '1981-12-03',\n",
       "  'SAL': '3000.00',\n",
       "  'DEPTNO': '20'},\n",
       " {'_id': ObjectId('6232b730b0fe2ce985b6d3b2'),\n",
       "  '': '11',\n",
       "  'EMPNO': '7900',\n",
       "  'ENAME': 'JAMES',\n",
       "  'JOB': 'CLERK',\n",
       "  'MGR': '7698',\n",
       "  'HIREDATE': '1981-12-03',\n",
       "  'SAL': '950.00',\n",
       "  'DEPTNO': '30'},\n",
       " {'_id': ObjectId('6232b730b0fe2ce985b6d3aa'),\n",
       "  '': '3',\n",
       "  'EMPNO': '7566',\n",
       "  'ENAME': 'JONES',\n",
       "  'JOB': 'MANAGER',\n",
       "  'MGR': '7839',\n",
       "  'HIREDATE': '1981-04-02',\n",
       "  'SAL': '2975.00',\n",
       "  'DEPTNO': '20'},\n",
       " {'_id': ObjectId('6232b730b0fe2ce985b6d3af'),\n",
       "  '': '8',\n",
       "  'EMPNO': '7839',\n",
       "  'ENAME': 'KING',\n",
       "  'JOB': 'PRESIDENT',\n",
       "  'HIREDATE': '1981-11-17',\n",
       "  'SAL': '5000.00',\n",
       "  'DEPTNO': '10'},\n",
       " {'_id': ObjectId('6232b730b0fe2ce985b6d3ab'),\n",
       "  '': '4',\n",
       "  'EMPNO': '7654',\n",
       "  'ENAME': 'MARTIN',\n",
       "  'JOB': 'SALESMAN',\n",
       "  'MGR': '7698',\n",
       "  'HIREDATE': '1981-09-28',\n",
       "  'SAL': '1250.00',\n",
       "  'COMM': '1400.00',\n",
       "  'DEPTNO': '30'},\n",
       " {'_id': ObjectId('6232b730b0fe2ce985b6d3b4'),\n",
       "  '': '13',\n",
       "  'EMPNO': '7934',\n",
       "  'ENAME': 'MILLER',\n",
       "  'JOB': 'CLERK',\n",
       "  'MGR': '7782',\n",
       "  'HIREDATE': '1982-01-23',\n",
       "  'SAL': '1300.00',\n",
       "  'DEPTNO': '10'},\n",
       " {'_id': ObjectId('6232b730b0fe2ce985b6d3ae'),\n",
       "  '': '7',\n",
       "  'EMPNO': '7788',\n",
       "  'ENAME': 'SCOTT',\n",
       "  'JOB': 'ANALYST',\n",
       "  'MGR': '7566',\n",
       "  'HIREDATE': '1987-06-28',\n",
       "  'SAL': '3000.00',\n",
       "  'DEPTNO': '20'},\n",
       " {'_id': ObjectId('6232b730b0fe2ce985b6d3a7'),\n",
       "  '': '0',\n",
       "  'EMPNO': '7369',\n",
       "  'ENAME': 'SMITH',\n",
       "  'JOB': 'CLERK',\n",
       "  'MGR': '7902',\n",
       "  'HIREDATE': '1980-12-17',\n",
       "  'SAL': '800.00',\n",
       "  'DEPTNO': '20'},\n",
       " {'_id': ObjectId('6232b730b0fe2ce985b6d3b0'),\n",
       "  '': '9',\n",
       "  'EMPNO': '7844',\n",
       "  'ENAME': 'TURNER',\n",
       "  'JOB': 'SALESMAN',\n",
       "  'MGR': '7698',\n",
       "  'HIREDATE': '1981-09-08',\n",
       "  'SAL': '1500.00',\n",
       "  'COMM': '0.00',\n",
       "  'DEPTNO': '30'},\n",
       " {'_id': ObjectId('6232b730b0fe2ce985b6d3a9'),\n",
       "  '': '2',\n",
       "  'EMPNO': '7521',\n",
       "  'ENAME': 'WARD',\n",
       "  'JOB': 'SALESMAN',\n",
       "  'MGR': '7698',\n",
       "  'HIREDATE': '1981-02-22',\n",
       "  'SAL': '1250.00',\n",
       "  'COMM': '500.00',\n",
       "  'DEPTNO': '30'}]"
      ]
     },
     "execution_count": 52,
     "metadata": {},
     "output_type": "execute_result"
    }
   ],
   "source": [
    "list(db.emp.find().sort(\"ENAME\"))\n",
    "\n",
    "#SELECT * FROM emp ORDER By ENAME"
   ]
  },
  {
   "cell_type": "code",
   "execution_count": null,
   "metadata": {},
   "outputs": [
    {
     "name": "stdout",
     "output_type": "stream",
     "text": [
      "{'_id': ObjectId('6232c69bb0fe2ce985b6d3b8'), '': '3', 'EMPNO': 7566, 'ENAME': 'JONES', 'JOB': 'MANAGER', 'MGR': 7839, 'HIREDATE': '1981-04-02', 'SAL': 2975.0, 'DEPTNO': 20}\n",
      "{'_id': ObjectId('6232c69bb0fe2ce985b6d3ba'), '': '5', 'EMPNO': 7698, 'ENAME': 'BLAKE', 'JOB': 'MANAGER', 'MGR': 7839, 'HIREDATE': '1981-05-01', 'SAL': 2850.0, 'DEPTNO': 30}\n",
      "{'_id': ObjectId('6232c69bb0fe2ce985b6d3bb'), '': '6', 'EMPNO': 7782, 'ENAME': 'CLARK', 'JOB': 'MANAGER', 'MGR': 7839, 'HIREDATE': '1981-06-09', 'SAL': 2450.0, 'DEPTNO': 10}\n",
      "{'_id': ObjectId('6232c69bb0fe2ce985b6d3bc'), '': '7', 'EMPNO': 7788, 'ENAME': 'SCOTT', 'JOB': 'ANALYST', 'MGR': 7566, 'HIREDATE': '1987-06-28', 'SAL': 3000.0, 'DEPTNO': 20}\n",
      "{'_id': ObjectId('6232c69bb0fe2ce985b6d3bd'), '': '8', 'EMPNO': 7839, 'ENAME': 'KING', 'JOB': 'PRESIDENT', 'HIREDATE': '1981-11-17', 'SAL': 5000.0, 'DEPTNO': 10}\n",
      "{'_id': ObjectId('6232c69bb0fe2ce985b6d3c1'), '': '12', 'EMPNO': 7902, 'ENAME': 'FORD', 'JOB': 'ANALYST', 'MGR': 7566, 'HIREDATE': '1981-12-03', 'SAL': 3000.0, 'DEPTNO': 20}\n"
     ]
    }
   ],
   "source": [
    "#급여가 2000보다 큰 데이터만 출력\n",
    "result = db.emp.find({\"SAL\": {\"$gt\":2000}})\n",
    "for list in result:\n",
    "    print(list)\n",
    "\n",
    "#SELECT * FROM emp WHERE SAL > 2000"
   ]
  },
  {
   "cell_type": "code",
   "execution_count": null,
   "metadata": {},
   "outputs": [
    {
     "name": "stdout",
     "output_type": "stream",
     "text": [
      "{'_id': ObjectId('6232c69bb0fe2ce985b6d3b8'), '': '3', 'EMPNO': 7566, 'ENAME': 'JONES', 'JOB': 'MANAGER', 'MGR': 7839, 'HIREDATE': '1981-04-02', 'SAL': 2975.0, 'DEPTNO': 20}\n",
      "{'_id': ObjectId('6232c69bb0fe2ce985b6d3ba'), '': '5', 'EMPNO': 7698, 'ENAME': 'BLAKE', 'JOB': 'MANAGER', 'MGR': 7839, 'HIREDATE': '1981-05-01', 'SAL': 2850.0, 'DEPTNO': 30}\n",
      "{'_id': ObjectId('6232c69bb0fe2ce985b6d3bb'), '': '6', 'EMPNO': 7782, 'ENAME': 'CLARK', 'JOB': 'MANAGER', 'MGR': 7839, 'HIREDATE': '1981-06-09', 'SAL': 2450.0, 'DEPTNO': 10}\n",
      "{'_id': ObjectId('6232c69bb0fe2ce985b6d3bc'), '': '7', 'EMPNO': 7788, 'ENAME': 'SCOTT', 'JOB': 'ANALYST', 'MGR': 7566, 'HIREDATE': '1987-06-28', 'SAL': 3000.0, 'DEPTNO': 20}\n",
      "{'_id': ObjectId('6232c69bb0fe2ce985b6d3bd'), '': '8', 'EMPNO': 7839, 'ENAME': 'KING', 'JOB': 'PRESIDENT', 'HIREDATE': '1981-11-17', 'SAL': 5000.0, 'DEPTNO': 10}\n",
      "{'_id': ObjectId('6232c69bb0fe2ce985b6d3c1'), '': '12', 'EMPNO': 7902, 'ENAME': 'FORD', 'JOB': 'ANALYST', 'MGR': 7566, 'HIREDATE': '1981-12-03', 'SAL': 3000.0, 'DEPTNO': 20}\n"
     ]
    }
   ],
   "source": [
    "#급여가 2450보다 크거나 같은 데이터만 출력\n",
    "result = db.emp.find({\"SAL\": {\"$gte\":2450}})\n",
    "for list in result:\n",
    "    print(list)\n"
   ]
  },
  {
   "cell_type": "code",
   "execution_count": null,
   "metadata": {},
   "outputs": [
    {
     "name": "stdout",
     "output_type": "stream",
     "text": [
      "{'_id': ObjectId('6232c69bb0fe2ce985b6d3b5'), '': '0', 'EMPNO': 7369, 'ENAME': 'SMITH', 'JOB': 'CLERK', 'MGR': 7902, 'HIREDATE': '1980-12-17', 'SAL': 800.0, 'DEPTNO': 20}\n",
      "{'_id': ObjectId('6232c69bb0fe2ce985b6d3b6'), '': '1', 'EMPNO': 7499, 'ENAME': 'ALLEN', 'JOB': 'SALESMAN', 'MGR': 7698, 'HIREDATE': '1981-02-20', 'SAL': 1600.0, 'COMM': 300.0, 'DEPTNO': 30}\n",
      "{'_id': ObjectId('6232c69bb0fe2ce985b6d3b7'), '': '2', 'EMPNO': 7521, 'ENAME': 'WARD', 'JOB': 'SALESMAN', 'MGR': 7698, 'HIREDATE': '1981-02-22', 'SAL': 1250.0, 'COMM': 500.0, 'DEPTNO': 30}\n",
      "{'_id': ObjectId('6232c69bb0fe2ce985b6d3b9'), '': '4', 'EMPNO': 7654, 'ENAME': 'MARTIN', 'JOB': 'SALESMAN', 'MGR': 7698, 'HIREDATE': '1981-09-28', 'SAL': 1250.0, 'COMM': 1400.0, 'DEPTNO': 30}\n",
      "{'_id': ObjectId('6232c69bb0fe2ce985b6d3be'), '': '9', 'EMPNO': 7844, 'ENAME': 'TURNER', 'JOB': 'SALESMAN', 'MGR': 7698, 'HIREDATE': '1981-09-08', 'SAL': 1500.0, 'COMM': 0.0, 'DEPTNO': 30}\n",
      "{'_id': ObjectId('6232c69bb0fe2ce985b6d3bf'), '': '10', 'EMPNO': 7876, 'ENAME': 'ADAMS', 'JOB': 'CLERK', 'MGR': 7788, 'HIREDATE': '1987-07-13', 'SAL': 1100.0, 'DEPTNO': 20}\n",
      "{'_id': ObjectId('6232c69bb0fe2ce985b6d3c0'), '': '11', 'EMPNO': 7900, 'ENAME': 'JAMES', 'JOB': 'CLERK', 'MGR': 7698, 'HIREDATE': '1981-12-03', 'SAL': 950.0, 'DEPTNO': 30}\n",
      "{'_id': ObjectId('6232c69bb0fe2ce985b6d3c2'), '': '13', 'EMPNO': 7934, 'ENAME': 'MILLER', 'JOB': 'CLERK', 'MGR': 7782, 'HIREDATE': '1982-01-23', 'SAL': 1300.0, 'DEPTNO': 10}\n"
     ]
    }
   ],
   "source": [
    "#급여가 2450보다 작은 데이터만 출력\n",
    "result = db.emp.find({\"SAL\": {\"$lt\":2450}})\n",
    "for list in result:\n",
    "    print(list)\n"
   ]
  },
  {
   "cell_type": "code",
   "execution_count": null,
   "metadata": {},
   "outputs": [
    {
     "name": "stdout",
     "output_type": "stream",
     "text": [
      "{'_id': ObjectId('6232b730b0fe2ce985b6d3a7'), '': '0', 'EMPNO': '7369', 'ENAME': 'SMITH', 'JOB': 'CLERK', 'MGR': '7902', 'HIREDATE': '1980-12-17', 'SAL': '800.00', 'DEPTNO': '20'}\n",
      "{'_id': ObjectId('6232c69bb0fe2ce985b6d3b5'), '': '0', 'EMPNO': 7369, 'ENAME': 'SMITH', 'JOB': 'CLERK', 'MGR': 7902, 'HIREDATE': '1980-12-17', 'SAL': 800.0, 'DEPTNO': 20}\n"
     ]
    }
   ],
   "source": [
    "# SELECT * FROM emp WHERE ENAME = SMITH and JOB = CLERK\n",
    "result = db.emp.find(\n",
    "    {\n",
    "        \"ENAME\" : \"SMITH\",\n",
    "        \"JOB\" : \"CLERK\"\n",
    "    }\n",
    ")\n",
    "for list in result:\n",
    "    print(list)"
   ]
  },
  {
   "cell_type": "code",
   "execution_count": null,
   "metadata": {},
   "outputs": [
    {
     "name": "stdout",
     "output_type": "stream",
     "text": [
      "{'_id': ObjectId('6232b730b0fe2ce985b6d3a7'), '': '0', 'EMPNO': '7369', 'ENAME': 'SMITH', 'JOB': 'CLERK', 'MGR': '7902', 'HIREDATE': '1980-12-17', 'SAL': '800.00', 'DEPTNO': '20'}\n",
      "{'_id': ObjectId('6232b730b0fe2ce985b6d3a8'), '': '1', 'EMPNO': '7499', 'ENAME': 'ALLEN', 'JOB': 'SALESMAN', 'MGR': '7698', 'HIREDATE': '1981-02-20', 'SAL': '1600.00', 'COMM': '300.00', 'DEPTNO': '30'}\n",
      "{'_id': ObjectId('6232c69bb0fe2ce985b6d3b5'), '': '0', 'EMPNO': 7369, 'ENAME': 'SMITH', 'JOB': 'CLERK', 'MGR': 7902, 'HIREDATE': '1980-12-17', 'SAL': 800.0, 'DEPTNO': 20}\n",
      "{'_id': ObjectId('6232c69bb0fe2ce985b6d3b6'), '': '1', 'EMPNO': 7499, 'ENAME': 'ALLEN', 'JOB': 'SALESMAN', 'MGR': 7698, 'HIREDATE': '1981-02-20', 'SAL': 1600.0, 'COMM': 300.0, 'DEPTNO': 30}\n"
     ]
    }
   ],
   "source": [
    "# SELECT * FROM emp WHERE ENAME = SMITH or ENAME = ALEN\n",
    "result = db.emp.find(\n",
    "    {\n",
    "        \"$or\" : [\n",
    "            {\n",
    "                \"ENAME\" : \"SMITH\"\n",
    "            },\n",
    "            {\n",
    "                \"ENAME\" : \"ALLEN\"\n",
    "                }\n",
    "        ]\n",
    "    }\n",
    ")\n",
    "for list in result:\n",
    "    print(list)"
   ]
  },
  {
   "cell_type": "code",
   "execution_count": null,
   "metadata": {},
   "outputs": [
    {
     "name": "stdout",
     "output_type": "stream",
     "text": [
      "{'': '3', 'EMPNO': 7566, 'ENAME': 'JONES', 'JOB': 'MANAGER', 'MGR': 7839, 'HIREDATE': '1981-04-02', 'SAL': 2975.0, 'DEPTNO': 20}\n",
      "{'': '5', 'EMPNO': 7698, 'ENAME': 'BLAKE', 'JOB': 'MANAGER', 'MGR': 7839, 'HIREDATE': '1981-05-01', 'SAL': 2850.0, 'DEPTNO': 30}\n",
      "{'': '6', 'EMPNO': 7782, 'ENAME': 'CLARK', 'JOB': 'MANAGER', 'MGR': 7839, 'HIREDATE': '1981-06-09', 'SAL': 2450.0, 'DEPTNO': 10}\n",
      "{'': '7', 'EMPNO': 7788, 'ENAME': 'SCOTT', 'JOB': 'ANALYST', 'MGR': 7566, 'HIREDATE': '1987-06-28', 'SAL': 3000.0, 'DEPTNO': 20}\n",
      "{'': '12', 'EMPNO': 7902, 'ENAME': 'FORD', 'JOB': 'ANALYST', 'MGR': 7566, 'HIREDATE': '1981-12-03', 'SAL': 3000.0, 'DEPTNO': 20}\n"
     ]
    }
   ],
   "source": [
    "#SELECT * FROM emp WHERE SAL >=2000 AND SAL < 4000\n",
    "#_id 없애기\n",
    "result = db.emp.find(\n",
    "        {\n",
    "            \"SAL\": {\n",
    "                \"$gte\":2000,\n",
    "                \"$lt\":4000\n",
    "                }\n",
    "            },\n",
    "            {\n",
    "                \"_id\":0\n",
    "            }\n",
    ")\n",
    "for list in result:\n",
    "    print(list)"
   ]
  },
  {
   "cell_type": "code",
   "execution_count": null,
   "metadata": {},
   "outputs": [
    {
     "data": {
      "text/html": [
       "<div>\n",
       "<style scoped>\n",
       "    .dataframe tbody tr th:only-of-type {\n",
       "        vertical-align: middle;\n",
       "    }\n",
       "\n",
       "    .dataframe tbody tr th {\n",
       "        vertical-align: top;\n",
       "    }\n",
       "\n",
       "    .dataframe thead th {\n",
       "        text-align: right;\n",
       "    }\n",
       "</style>\n",
       "<table border=\"1\" class=\"dataframe\">\n",
       "  <thead>\n",
       "    <tr style=\"text-align: right;\">\n",
       "      <th></th>\n",
       "      <th>_id</th>\n",
       "      <th></th>\n",
       "      <th>EMPNO</th>\n",
       "      <th>ENAME</th>\n",
       "      <th>JOB</th>\n",
       "      <th>MGR</th>\n",
       "      <th>HIREDATE</th>\n",
       "      <th>SAL</th>\n",
       "      <th>DEPTNO</th>\n",
       "    </tr>\n",
       "  </thead>\n",
       "  <tbody>\n",
       "    <tr>\n",
       "      <th>0</th>\n",
       "      <td>6232b730b0fe2ce985b6d3a7</td>\n",
       "      <td>0</td>\n",
       "      <td>7369</td>\n",
       "      <td>SMITH</td>\n",
       "      <td>CLERK</td>\n",
       "      <td>7902</td>\n",
       "      <td>1980-12-17</td>\n",
       "      <td>880</td>\n",
       "      <td>20</td>\n",
       "    </tr>\n",
       "    <tr>\n",
       "      <th>1</th>\n",
       "      <td>6232b730b0fe2ce985b6d3aa</td>\n",
       "      <td>3</td>\n",
       "      <td>7566</td>\n",
       "      <td>JONES</td>\n",
       "      <td>MANAGER</td>\n",
       "      <td>7839</td>\n",
       "      <td>1981-04-02</td>\n",
       "      <td>2975.00</td>\n",
       "      <td>20</td>\n",
       "    </tr>\n",
       "    <tr>\n",
       "      <th>2</th>\n",
       "      <td>6232b730b0fe2ce985b6d3ae</td>\n",
       "      <td>7</td>\n",
       "      <td>7788</td>\n",
       "      <td>SCOTT</td>\n",
       "      <td>ANALYST</td>\n",
       "      <td>7566</td>\n",
       "      <td>1987-06-28</td>\n",
       "      <td>3000.00</td>\n",
       "      <td>20</td>\n",
       "    </tr>\n",
       "    <tr>\n",
       "      <th>3</th>\n",
       "      <td>6232b730b0fe2ce985b6d3b1</td>\n",
       "      <td>10</td>\n",
       "      <td>7876</td>\n",
       "      <td>ADAMS</td>\n",
       "      <td>CLERK</td>\n",
       "      <td>7788</td>\n",
       "      <td>1987-07-13</td>\n",
       "      <td>1100.00</td>\n",
       "      <td>20</td>\n",
       "    </tr>\n",
       "    <tr>\n",
       "      <th>4</th>\n",
       "      <td>6232b730b0fe2ce985b6d3b2</td>\n",
       "      <td>11</td>\n",
       "      <td>7900</td>\n",
       "      <td>JAMES</td>\n",
       "      <td>CLERK</td>\n",
       "      <td>7698</td>\n",
       "      <td>1981-12-03</td>\n",
       "      <td>950.00</td>\n",
       "      <td>30</td>\n",
       "    </tr>\n",
       "    <tr>\n",
       "      <th>5</th>\n",
       "      <td>6232c69bb0fe2ce985b6d3b5</td>\n",
       "      <td>0</td>\n",
       "      <td>7369</td>\n",
       "      <td>SMITH</td>\n",
       "      <td>CLERK</td>\n",
       "      <td>7902</td>\n",
       "      <td>1980-12-17</td>\n",
       "      <td>800.0</td>\n",
       "      <td>20</td>\n",
       "    </tr>\n",
       "    <tr>\n",
       "      <th>6</th>\n",
       "      <td>6232c69bb0fe2ce985b6d3b8</td>\n",
       "      <td>3</td>\n",
       "      <td>7566</td>\n",
       "      <td>JONES</td>\n",
       "      <td>MANAGER</td>\n",
       "      <td>7839</td>\n",
       "      <td>1981-04-02</td>\n",
       "      <td>2975.0</td>\n",
       "      <td>20</td>\n",
       "    </tr>\n",
       "    <tr>\n",
       "      <th>7</th>\n",
       "      <td>6232c69bb0fe2ce985b6d3bc</td>\n",
       "      <td>7</td>\n",
       "      <td>7788</td>\n",
       "      <td>SCOTT</td>\n",
       "      <td>ANALYST</td>\n",
       "      <td>7566</td>\n",
       "      <td>1987-06-28</td>\n",
       "      <td>3000.0</td>\n",
       "      <td>20</td>\n",
       "    </tr>\n",
       "    <tr>\n",
       "      <th>8</th>\n",
       "      <td>6232c69bb0fe2ce985b6d3bf</td>\n",
       "      <td>10</td>\n",
       "      <td>7876</td>\n",
       "      <td>ADAMS</td>\n",
       "      <td>CLERK</td>\n",
       "      <td>7788</td>\n",
       "      <td>1987-07-13</td>\n",
       "      <td>1100.0</td>\n",
       "      <td>20</td>\n",
       "    </tr>\n",
       "    <tr>\n",
       "      <th>9</th>\n",
       "      <td>6232c69bb0fe2ce985b6d3c0</td>\n",
       "      <td>11</td>\n",
       "      <td>7900</td>\n",
       "      <td>JAMES</td>\n",
       "      <td>CLERK</td>\n",
       "      <td>7698</td>\n",
       "      <td>1981-12-03</td>\n",
       "      <td>950.0</td>\n",
       "      <td>30</td>\n",
       "    </tr>\n",
       "  </tbody>\n",
       "</table>\n",
       "</div>"
      ],
      "text/plain": [
       "                        _id     EMPNO  ENAME      JOB   MGR    HIREDATE  \\\n",
       "0  6232b730b0fe2ce985b6d3a7   0  7369  SMITH    CLERK  7902  1980-12-17   \n",
       "1  6232b730b0fe2ce985b6d3aa   3  7566  JONES  MANAGER  7839  1981-04-02   \n",
       "2  6232b730b0fe2ce985b6d3ae   7  7788  SCOTT  ANALYST  7566  1987-06-28   \n",
       "3  6232b730b0fe2ce985b6d3b1  10  7876  ADAMS    CLERK  7788  1987-07-13   \n",
       "4  6232b730b0fe2ce985b6d3b2  11  7900  JAMES    CLERK  7698  1981-12-03   \n",
       "5  6232c69bb0fe2ce985b6d3b5   0  7369  SMITH    CLERK  7902  1980-12-17   \n",
       "6  6232c69bb0fe2ce985b6d3b8   3  7566  JONES  MANAGER  7839  1981-04-02   \n",
       "7  6232c69bb0fe2ce985b6d3bc   7  7788  SCOTT  ANALYST  7566  1987-06-28   \n",
       "8  6232c69bb0fe2ce985b6d3bf  10  7876  ADAMS    CLERK  7788  1987-07-13   \n",
       "9  6232c69bb0fe2ce985b6d3c0  11  7900  JAMES    CLERK  7698  1981-12-03   \n",
       "\n",
       "       SAL DEPTNO  \n",
       "0      880     20  \n",
       "1  2975.00     20  \n",
       "2  3000.00     20  \n",
       "3  1100.00     20  \n",
       "4   950.00     30  \n",
       "5    800.0     20  \n",
       "6   2975.0     20  \n",
       "7   3000.0     20  \n",
       "8   1100.0     20  \n",
       "9    950.0     30  "
      ]
     },
     "execution_count": 55,
     "metadata": {},
     "output_type": "execute_result"
    }
   ],
   "source": [
    "#SELECT * FROM emp WHERE ENAME LIKE %S%\n",
    "result = db.emp.find(\n",
    "    {\n",
    "        \"ENAME\" : {\n",
    "            \"$regex\" : \"S\" #S로 시작하는거 = \"^S\" , S로 끝나는거 = \"S$\"\n",
    "        }\n",
    "\n",
    "    }\n",
    ") \n",
    "pd.DataFrame(result)"
   ]
  },
  {
   "cell_type": "code",
   "execution_count": null,
   "metadata": {},
   "outputs": [
    {
     "name": "stdout",
     "output_type": "stream",
     "text": [
      "{'ENAME': 'TURNER', 'JOB': 'SALESMAN', 'SAL': 1500.0, 'DEPTNO': 30}\n",
      "{'ENAME': 'ALLEN', 'JOB': 'SALESMAN', 'SAL': 1600.0, 'DEPTNO': 30}\n"
     ]
    }
   ],
   "source": [
    "#SELECT ENAME, JOB, SAL, DEPTNO FROM emp \n",
    "#WHERE SAl: > 1250 AND SAL<=3000 AND JOB=SALESMAN\n",
    "#ORDER BY ENAME\n",
    "\n",
    "result = db.emp.find(\n",
    "    {\"SAL\": {\"$gt\":1250, \"$lte\":3000}, \"JOB\" : \"SALESMAN\"}, \n",
    "             \n",
    "    {\"ENAME\": 1, \"JOB\": 1, \"SAL\": 1, \"DEPTNO\": 1, \"_id\": 0}).sort(\"ENAME\", -1) #-1은 오름차순, 1은 내림차순\n",
    "# \"ENAME\" : 1 ->ENAME을 보여주겠다, \"_id\":0->_id를 숨기겠다!\n",
    "for list in result:\n",
    "    print(list)\n"
   ]
  },
  {
   "cell_type": "code",
   "execution_count": null,
   "metadata": {},
   "outputs": [
    {
     "name": "stdout",
     "output_type": "stream",
     "text": [
      "{'_id': ObjectId('6232b730b0fe2ce985b6d3a7'), '': '0', 'EMPNO': '7369', 'ENAME': 'SMITH', 'JOB': 'CLERK', 'MGR': '7902', 'HIREDATE': '1980-12-17', 'SAL': 880, 'DEPTNO': '20'}\n",
      "{'_id': ObjectId('6232b730b0fe2ce985b6d3a8'), '': '1', 'EMPNO': '7499', 'ENAME': 'ALLEN', 'JOB': 'SALESMAN', 'MGR': '7698', 'HIREDATE': '1981-02-20', 'SAL': '1600.00', 'COMM': '300.00', 'DEPTNO': '30'}\n",
      "{'_id': ObjectId('6232b730b0fe2ce985b6d3a9'), '': '2', 'EMPNO': '7521', 'ENAME': 'WARD', 'JOB': 'SALESMAN', 'MGR': '7698', 'HIREDATE': '1981-02-22', 'SAL': '1250.00', 'COMM': '500.00', 'DEPTNO': '30'}\n",
      "{'_id': ObjectId('6232b730b0fe2ce985b6d3aa'), '': '3', 'EMPNO': '7566', 'ENAME': 'JONES', 'JOB': 'MANAGER', 'MGR': '7839', 'HIREDATE': '1981-04-02', 'SAL': '2975.00', 'DEPTNO': '20'}\n",
      "{'_id': ObjectId('6232b730b0fe2ce985b6d3ab'), '': '4', 'EMPNO': '7654', 'ENAME': 'MARTIN', 'JOB': 'SALESMAN', 'MGR': '7698', 'HIREDATE': '1981-09-28', 'SAL': '1250.00', 'COMM': '1400.00', 'DEPTNO': '30'}\n",
      "{'_id': ObjectId('6232b730b0fe2ce985b6d3ac'), '': '5', 'EMPNO': '7698', 'ENAME': 'BLAKE', 'JOB': 'MANAGER', 'MGR': '7839', 'HIREDATE': '1981-05-01', 'SAL': '2850.00', 'DEPTNO': '30'}\n",
      "{'_id': ObjectId('6232b730b0fe2ce985b6d3ad'), '': '6', 'EMPNO': '7782', 'ENAME': 'CLARK', 'JOB': 'MANAGER', 'MGR': '7839', 'HIREDATE': '1981-06-09', 'SAL': '2450.00', 'DEPTNO': '10'}\n",
      "{'_id': ObjectId('6232b730b0fe2ce985b6d3ae'), '': '7', 'EMPNO': '7788', 'ENAME': 'SCOTT', 'JOB': 'ANALYST', 'MGR': '7566', 'HIREDATE': '1987-06-28', 'SAL': '3000.00', 'DEPTNO': '20'}\n",
      "{'_id': ObjectId('6232b730b0fe2ce985b6d3af'), '': '8', 'EMPNO': '7839', 'ENAME': 'KING', 'JOB': 'PRESIDENT', 'HIREDATE': '1981-11-17', 'SAL': '5000.00', 'DEPTNO': '10'}\n",
      "{'_id': ObjectId('6232b730b0fe2ce985b6d3b0'), '': '9', 'EMPNO': '7844', 'ENAME': 'TURNER', 'JOB': 'SALESMAN', 'MGR': '7698', 'HIREDATE': '1981-09-08', 'SAL': '1500.00', 'COMM': '0.00', 'DEPTNO': '30'}\n",
      "{'_id': ObjectId('6232b730b0fe2ce985b6d3b1'), '': '10', 'EMPNO': '7876', 'ENAME': 'ADAMS', 'JOB': 'CLERK', 'MGR': '7788', 'HIREDATE': '1987-07-13', 'SAL': '1100.00', 'DEPTNO': '20'}\n",
      "{'_id': ObjectId('6232b730b0fe2ce985b6d3b2'), '': '11', 'EMPNO': '7900', 'ENAME': 'JAMES', 'JOB': 'CLERK', 'MGR': '7698', 'HIREDATE': '1981-12-03', 'SAL': '950.00', 'DEPTNO': '30'}\n",
      "{'_id': ObjectId('6232b730b0fe2ce985b6d3b3'), '': '12', 'EMPNO': '7902', 'ENAME': 'FORD', 'JOB': 'ANALYST', 'MGR': '7566', 'HIREDATE': '1981-12-03', 'SAL': '3000.00', 'DEPTNO': '20'}\n",
      "{'_id': ObjectId('6232b730b0fe2ce985b6d3b4'), '': '13', 'EMPNO': '7934', 'ENAME': 'MILLER', 'JOB': 'CLERK', 'MGR': '7782', 'HIREDATE': '1982-01-23', 'SAL': '1300.00', 'DEPTNO': '10'}\n",
      "{'_id': ObjectId('6232c69bb0fe2ce985b6d3b5'), '': '0', 'EMPNO': 7369, 'ENAME': 'SMITH', 'JOB': 'CLERK', 'MGR': 7902, 'HIREDATE': '1980-12-17', 'SAL': 800.0, 'DEPTNO': 20}\n",
      "{'_id': ObjectId('6232c69bb0fe2ce985b6d3b6'), '': '1', 'EMPNO': 7499, 'ENAME': 'ALLEN', 'JOB': 'SALESMAN', 'MGR': 7698, 'HIREDATE': '1981-02-20', 'SAL': 1600.0, 'COMM': 300.0, 'DEPTNO': 30}\n",
      "{'_id': ObjectId('6232c69bb0fe2ce985b6d3b7'), '': '2', 'EMPNO': 7521, 'ENAME': 'WARD', 'JOB': 'SALESMAN', 'MGR': 7698, 'HIREDATE': '1981-02-22', 'SAL': 1250.0, 'COMM': 500.0, 'DEPTNO': 30}\n",
      "{'_id': ObjectId('6232c69bb0fe2ce985b6d3b8'), '': '3', 'EMPNO': 7566, 'ENAME': 'JONES', 'JOB': 'MANAGER', 'MGR': 7839, 'HIREDATE': '1981-04-02', 'SAL': 2975.0, 'DEPTNO': 20}\n",
      "{'_id': ObjectId('6232c69bb0fe2ce985b6d3b9'), '': '4', 'EMPNO': 7654, 'ENAME': 'MARTIN', 'JOB': 'SALESMAN', 'MGR': 7698, 'HIREDATE': '1981-09-28', 'SAL': 1250.0, 'COMM': 1400.0, 'DEPTNO': 30}\n",
      "{'_id': ObjectId('6232c69bb0fe2ce985b6d3ba'), '': '5', 'EMPNO': 7698, 'ENAME': 'BLAKE', 'JOB': 'MANAGER', 'MGR': 7839, 'HIREDATE': '1981-05-01', 'SAL': 2850.0, 'DEPTNO': 30}\n",
      "{'_id': ObjectId('6232c69bb0fe2ce985b6d3bb'), '': '6', 'EMPNO': 7782, 'ENAME': 'CLARK', 'JOB': 'MANAGER', 'MGR': 7839, 'HIREDATE': '1981-06-09', 'SAL': 2450.0, 'DEPTNO': 10}\n",
      "{'_id': ObjectId('6232c69bb0fe2ce985b6d3bc'), '': '7', 'EMPNO': 7788, 'ENAME': 'SCOTT', 'JOB': 'ANALYST', 'MGR': 7566, 'HIREDATE': '1987-06-28', 'SAL': 3000.0, 'DEPTNO': 20}\n",
      "{'_id': ObjectId('6232c69bb0fe2ce985b6d3bd'), '': '8', 'EMPNO': 7839, 'ENAME': 'KING', 'JOB': 'PRESIDENT', 'HIREDATE': '1981-11-17', 'SAL': 5000.0, 'DEPTNO': 10}\n",
      "{'_id': ObjectId('6232c69bb0fe2ce985b6d3be'), '': '9', 'EMPNO': 7844, 'ENAME': 'TURNER', 'JOB': 'SALESMAN', 'MGR': 7698, 'HIREDATE': '1981-09-08', 'SAL': 1500.0, 'COMM': 0.0, 'DEPTNO': 30}\n",
      "{'_id': ObjectId('6232c69bb0fe2ce985b6d3bf'), '': '10', 'EMPNO': 7876, 'ENAME': 'ADAMS', 'JOB': 'CLERK', 'MGR': 7788, 'HIREDATE': '1987-07-13', 'SAL': 1100.0, 'DEPTNO': 20}\n",
      "{'_id': ObjectId('6232c69bb0fe2ce985b6d3c0'), '': '11', 'EMPNO': 7900, 'ENAME': 'JAMES', 'JOB': 'CLERK', 'MGR': 7698, 'HIREDATE': '1981-12-03', 'SAL': 950.0, 'DEPTNO': 30}\n",
      "{'_id': ObjectId('6232c69bb0fe2ce985b6d3c1'), '': '12', 'EMPNO': 7902, 'ENAME': 'FORD', 'JOB': 'ANALYST', 'MGR': 7566, 'HIREDATE': '1981-12-03', 'SAL': 3000.0, 'DEPTNO': 20}\n",
      "{'_id': ObjectId('6232c69bb0fe2ce985b6d3c2'), '': '13', 'EMPNO': 7934, 'ENAME': 'MILLER', 'JOB': 'CLERK', 'MGR': 7782, 'HIREDATE': '1982-01-23', 'SAL': 1300.0, 'DEPTNO': 10}\n"
     ]
    }
   ],
   "source": [
    "result = db.emp.find()\n",
    "for list in result:\n",
    "    print(list)\n"
   ]
  },
  {
   "cell_type": "code",
   "execution_count": null,
   "metadata": {},
   "outputs": [
    {
     "data": {
      "text/plain": [
       "<pymongo.results.UpdateResult at 0x1c8b95009c0>"
      ]
     },
     "execution_count": 30,
     "metadata": {},
     "output_type": "execute_result"
    }
   ],
   "source": [
    "db.emp.update_one(\n",
    "    {\n",
    "        \"ENAME\" : \"SMITH\"\n",
    "    },\n",
    "    {\n",
    "        \"$set\" : {\n",
    "            \"SAL\" : 880\n",
    "        }\n",
    "    }\n",
    ")\n",
    "\n"
   ]
  },
  {
   "cell_type": "code",
   "execution_count": null,
   "metadata": {},
   "outputs": [
    {
     "data": {
      "text/html": [
       "<div>\n",
       "<style scoped>\n",
       "    .dataframe tbody tr th:only-of-type {\n",
       "        vertical-align: middle;\n",
       "    }\n",
       "\n",
       "    .dataframe tbody tr th {\n",
       "        vertical-align: top;\n",
       "    }\n",
       "\n",
       "    .dataframe thead th {\n",
       "        text-align: right;\n",
       "    }\n",
       "</style>\n",
       "<table border=\"1\" class=\"dataframe\">\n",
       "  <thead>\n",
       "    <tr style=\"text-align: right;\">\n",
       "      <th></th>\n",
       "      <th>_id</th>\n",
       "      <th></th>\n",
       "      <th>EMPNO</th>\n",
       "      <th>ENAME</th>\n",
       "      <th>JOB</th>\n",
       "      <th>MGR</th>\n",
       "      <th>HIREDATE</th>\n",
       "      <th>SAL</th>\n",
       "      <th>DEPTNO</th>\n",
       "    </tr>\n",
       "  </thead>\n",
       "  <tbody>\n",
       "    <tr>\n",
       "      <th>0</th>\n",
       "      <td>6232b730b0fe2ce985b6d3a7</td>\n",
       "      <td>0</td>\n",
       "      <td>7369</td>\n",
       "      <td>SMITH</td>\n",
       "      <td>CLERK</td>\n",
       "      <td>7902</td>\n",
       "      <td>1980-12-17</td>\n",
       "      <td>880.0</td>\n",
       "      <td>20</td>\n",
       "    </tr>\n",
       "    <tr>\n",
       "      <th>1</th>\n",
       "      <td>6232c69bb0fe2ce985b6d3b5</td>\n",
       "      <td>0</td>\n",
       "      <td>7369</td>\n",
       "      <td>SMITH</td>\n",
       "      <td>CLERK</td>\n",
       "      <td>7902</td>\n",
       "      <td>1980-12-17</td>\n",
       "      <td>800.0</td>\n",
       "      <td>20</td>\n",
       "    </tr>\n",
       "  </tbody>\n",
       "</table>\n",
       "</div>"
      ],
      "text/plain": [
       "                        _id    EMPNO  ENAME    JOB   MGR    HIREDATE    SAL  \\\n",
       "0  6232b730b0fe2ce985b6d3a7  0  7369  SMITH  CLERK  7902  1980-12-17  880.0   \n",
       "1  6232c69bb0fe2ce985b6d3b5  0  7369  SMITH  CLERK  7902  1980-12-17  800.0   \n",
       "\n",
       "  DEPTNO  \n",
       "0     20  \n",
       "1     20  "
      ]
     },
     "execution_count": 56,
     "metadata": {},
     "output_type": "execute_result"
    }
   ],
   "source": [
    "result = db.emp.find(\n",
    "    {\n",
    "        \"ENAME\" : \"SMITH\"\n",
    "    }\n",
    ")\n",
    "pd.DataFrame(result)\n"
   ]
  },
  {
   "cell_type": "code",
   "execution_count": null,
   "metadata": {},
   "outputs": [
    {
     "data": {
      "text/plain": [
       "<pymongo.results.UpdateResult at 0x1c8b94ea600>"
      ]
     },
     "execution_count": 34,
     "metadata": {},
     "output_type": "execute_result"
    }
   ],
   "source": [
    "db.emp.update_many(\n",
    "    {\n",
    "        \"ENAME\" : \"ALLEN\"\n",
    "    },\n",
    "    {\n",
    "        \"$set\" : {\n",
    "            \"SAL\" : 2000\n",
    "        }\n",
    "    }\n",
    ")"
   ]
  },
  {
   "cell_type": "code",
   "execution_count": null,
   "metadata": {},
   "outputs": [
    {
     "name": "stdout",
     "output_type": "stream",
     "text": [
      "{'_id': ObjectId('6232b730b0fe2ce985b6d3a8'), '': '1', 'EMPNO': '7499', 'ENAME': 'ALLEN', 'JOB': 'SALESMAN', 'MGR': '7698', 'HIREDATE': '1981-02-20', 'SAL': 2000, 'COMM': '300.00', 'DEPTNO': '30'}\n",
      "{'_id': ObjectId('6232c69bb0fe2ce985b6d3b6'), '': '1', 'EMPNO': 7499, 'ENAME': 'ALLEN', 'JOB': 'SALESMAN', 'MGR': 7698, 'HIREDATE': '1981-02-20', 'SAL': 2000, 'COMM': 300.0, 'DEPTNO': 30}\n"
     ]
    }
   ],
   "source": [
    "result = db.emp.find(\n",
    "    {\n",
    "        \"ENAME\":\"ALLEN\"\n",
    "    }\n",
    ")\n",
    "for list in result:\n",
    "    print(list)"
   ]
  },
  {
   "cell_type": "code",
   "execution_count": null,
   "metadata": {},
   "outputs": [
    {
     "data": {
      "text/html": [
       "<div>\n",
       "<style scoped>\n",
       "    .dataframe tbody tr th:only-of-type {\n",
       "        vertical-align: middle;\n",
       "    }\n",
       "\n",
       "    .dataframe tbody tr th {\n",
       "        vertical-align: top;\n",
       "    }\n",
       "\n",
       "    .dataframe thead th {\n",
       "        text-align: right;\n",
       "    }\n",
       "</style>\n",
       "<table border=\"1\" class=\"dataframe\">\n",
       "  <thead>\n",
       "    <tr style=\"text-align: right;\">\n",
       "      <th></th>\n",
       "    </tr>\n",
       "  </thead>\n",
       "  <tbody>\n",
       "  </tbody>\n",
       "</table>\n",
       "</div>"
      ],
      "text/plain": [
       "Empty DataFrame\n",
       "Columns: []\n",
       "Index: []"
      ]
     },
     "execution_count": 57,
     "metadata": {},
     "output_type": "execute_result"
    }
   ],
   "source": [
    "db.emp.delete_one(\n",
    "    {\n",
    "        \"JOB\" : \"PRESIDENT\"\n",
    "    }\n",
    ")\n",
    "pd.DataFrame(result)"
   ]
  },
  {
   "cell_type": "code",
   "execution_count": null,
   "metadata": {},
   "outputs": [],
   "source": [
    "db.emp.find(\n",
    "    {\n",
    "        \"JOB\" : \"PRESIDENT\"\n",
    "    }\n",
    ")\n"
   ]
  },
  {
   "cell_type": "code",
   "execution_count": null,
   "metadata": {},
   "outputs": [
    {
     "data": {
      "text/plain": [
       "<pymongo.results.DeleteResult at 0x1c8b9484440>"
      ]
     },
     "execution_count": 45,
     "metadata": {},
     "output_type": "execute_result"
    }
   ],
   "source": [
    "db.emp.delete_many(\n",
    "    {\n",
    "        \"ENAME\" : \"MILLER\"\n",
    "    }\n",
    ")"
   ]
  },
  {
   "cell_type": "code",
   "execution_count": null,
   "metadata": {},
   "outputs": [
    {
     "data": {
      "text/html": [
       "<div>\n",
       "<style scoped>\n",
       "    .dataframe tbody tr th:only-of-type {\n",
       "        vertical-align: middle;\n",
       "    }\n",
       "\n",
       "    .dataframe tbody tr th {\n",
       "        vertical-align: top;\n",
       "    }\n",
       "\n",
       "    .dataframe thead th {\n",
       "        text-align: right;\n",
       "    }\n",
       "</style>\n",
       "<table border=\"1\" class=\"dataframe\">\n",
       "  <thead>\n",
       "    <tr style=\"text-align: right;\">\n",
       "      <th></th>\n",
       "    </tr>\n",
       "  </thead>\n",
       "  <tbody>\n",
       "  </tbody>\n",
       "</table>\n",
       "</div>"
      ],
      "text/plain": [
       "Empty DataFrame\n",
       "Columns: []\n",
       "Index: []"
      ]
     },
     "execution_count": 59,
     "metadata": {},
     "output_type": "execute_result"
    }
   ],
   "source": [
    "result = db.emp.find(\n",
    "    {\n",
    "        \"ENAME\":\"MILLER\"\n",
    "    }\n",
    ")\n",
    "\n",
    "pd.DataFrame(result)\n",
    "#데이터 없음. 위에서 해고시켰자나"
   ]
  },
  {
   "cell_type": "code",
   "execution_count": null,
   "metadata": {},
   "outputs": [],
   "source": [
    "import numpy as np\n",
    "import matplotlib.pyplot as plt"
   ]
  },
  {
   "cell_type": "code",
   "execution_count": null,
   "metadata": {},
   "outputs": [
    {
     "data": {
      "text/plain": [
       "array([10, 20, 30, 40, 50, 60, 70, 80, 90])"
      ]
     },
     "execution_count": 71,
     "metadata": {},
     "output_type": "execute_result"
    }
   ],
   "source": [
    "x = np.array([10,20,30,40,50,60,70,80,90])\n",
    "x"
   ]
  },
  {
   "cell_type": "code",
   "execution_count": null,
   "metadata": {},
   "outputs": [
    {
     "data": {
      "text/plain": [
       "array([10, 40, 70])"
      ]
     },
     "execution_count": 77,
     "metadata": {},
     "output_type": "execute_result"
    }
   ],
   "source": [
    "X_ = np.array(x[0:9:3])\n",
    "X_"
   ]
  },
  {
   "cell_type": "code",
   "execution_count": null,
   "metadata": {},
   "outputs": [
    {
     "data": {
      "text/plain": [
       "<function matplotlib.pyplot.show(close=None, block=None)>"
      ]
     },
     "execution_count": 89,
     "metadata": {},
     "output_type": "execute_result"
    },
    {
     "data": {
      "image/png": "[encoded data removed]",
      "text/plain": [
       "<Figure size 432x288 with 1 Axes>"
      ]
     },
     "metadata": {
      "needs_background": "light"
     },
     "output_type": "display_data"
    }
   ],
   "source": [
    "x = np.linspace(0, 10, 3) #시작과 종료값 무조건 포함, 3개로 나눔\n",
    "plt.plot(x)\n",
    "plt.show"
   ]
  },
  {
   "cell_type": "code",
   "execution_count": null,
   "metadata": {},
   "outputs": [
    {
     "data": {
      "text/plain": [
       "array([   100.        ,   3162.27766017, 100000.        ])"
      ]
     },
     "execution_count": 84,
     "metadata": {},
     "output_type": "execute_result"
    }
   ],
   "source": [
    "np.logspace(2, 5, 3) #log2 ~ log5 까지 3등분 (100~100000까지)"
   ]
  },
  {
   "cell_type": "code",
   "execution_count": null,
   "metadata": {},
   "outputs": [
    {
     "data": {
      "text/plain": [
       "<function matplotlib.pyplot.show(close=None, block=None)>"
      ]
     },
     "execution_count": 90,
     "metadata": {},
     "output_type": "execute_result"
    },
    {
     "data": {
      "image/png": "[encoded data removed]",
      "text/plain": [
       "<Figure size 432x288 with 1 Axes>"
      ]
     },
     "metadata": {
      "needs_background": "light"
     },
     "output_type": "display_data"
    }
   ],
   "source": [
    "x = np.logspace(2, 10, 100)\n",
    "plt.plot(x)\n",
    "plt.show"
   ]
  },
  {
   "cell_type": "code",
   "execution_count": null,
   "metadata": {},
   "outputs": [
    {
     "data": {
      "text/plain": [
       "(array([47, 22, 82, 19, 85, 15, 89, 74, 26, 11]),\n",
       " array([50, 25, 82, 32, 53, 92, 85, 17, 44, 59]),\n",
       " array([50, 25, 82, 32, 53, 92, 85, 17, 44, 59]))"
      ]
     },
     "execution_count": 96,
     "metadata": {},
     "output_type": "execute_result"
    }
   ],
   "source": [
    "np.random.seed(1)\n",
    "result = np.random.randint(10, 100, 10)\n",
    "np.random.seed(2)\n",
    "result_1 = np.random.randint(10, 100, 10)\n",
    "np.random.seed(2)\n",
    "result_2 = np.random.randint(10, 100, 10)\n",
    "\n",
    "result, result_1, result_2\n"
   ]
  },
  {
   "cell_type": "code",
   "execution_count": null,
   "metadata": {},
   "outputs": [
    {
     "data": {
      "text/plain": [
       "array([0.85397529, 0.49423684, 0.84656149, 0.07964548, 0.50524609,\n",
       "       0.0652865 , 0.42812233, 0.09653092, 0.12715997, 0.59674531])"
      ]
     },
     "execution_count": 98,
     "metadata": {},
     "output_type": "execute_result"
    }
   ],
   "source": [
    "np.random.rand(10)\n",
    "# 0과 1 사이에 균일한 확률분포로 10개 출력"
   ]
  },
  {
   "cell_type": "code",
   "execution_count": null,
   "metadata": {},
   "outputs": [
    {
     "data": {
      "text/plain": [
       "array([ 3.70444537e-01,  1.35963386e+00,  5.01857207e-01, -8.44213704e-01,\n",
       "        9.76147160e-06,  5.42352572e-01, -3.13508197e-01,  7.71011738e-01,\n",
       "       -1.86809065e+00,  1.73118467e+00])"
      ]
     },
     "execution_count": 100,
     "metadata": {},
     "output_type": "execute_result"
    }
   ],
   "source": [
    "np.random.randn(10)\n",
    "#표준편차가 1인 가우시안 표준정규분포"
   ]
  },
  {
   "cell_type": "code",
   "execution_count": null,
   "metadata": {},
   "outputs": [
    {
     "data": {
      "text/plain": [
       "array([ 2, 69, 41, 82, 62, 71, 98, 19, 85, 91])"
      ]
     },
     "execution_count": 102,
     "metadata": {},
     "output_type": "execute_result"
    }
   ],
   "source": [
    "np.random.randint(1, 100, 10)\n",
    "#1부터 99까지 숫자 랜덤하게 10개 출력"
   ]
  },
  {
   "cell_type": "code",
   "execution_count": null,
   "metadata": {},
   "outputs": [
    {
     "data": {
      "text/plain": [
       "array([[50, 28,  1, 63, 41],\n",
       "       [59, 93, 37, 64, 76],\n",
       "       [51, 74,  8, 50, 83]])"
      ]
     },
     "execution_count": 105,
     "metadata": {},
     "output_type": "execute_result"
    }
   ],
   "source": [
    "r = np.random.randint(1, 100, (3,5))\n",
    "r"
   ]
  },
  {
   "cell_type": "code",
   "execution_count": null,
   "metadata": {},
   "outputs": [
    {
     "data": {
      "text/plain": [
       "array([[59, 93, 37, 64, 76],\n",
       "       [51, 74,  8, 50, 83],\n",
       "       [50, 28,  1, 63, 41]])"
      ]
     },
     "execution_count": 108,
     "metadata": {},
     "output_type": "execute_result"
    }
   ],
   "source": [
    "#행렬에서 행 섞기(행 순서 바꾸기, 열은 그대로)\n",
    "np.random.shuffle(r)\n",
    "r"
   ]
  },
  {
   "cell_type": "code",
   "execution_count": null,
   "metadata": {},
   "outputs": [
    {
     "data": {
      "text/plain": [
       "array([1., 3., 5., 7.])"
      ]
     },
     "execution_count": 112,
     "metadata": {},
     "output_type": "execute_result"
    }
   ],
   "source": [
    "a = [1, 9, 25, 49]\n",
    "a_sqrt = np.sqrt(a)\n",
    "a_sqrt\n",
    "#제곱근 계산"
   ]
  },
  {
   "cell_type": "code",
   "execution_count": null,
   "metadata": {},
   "outputs": [
    {
     "data": {
      "text/plain": [
       "array([ 1,  9, 25, 49])"
      ]
     },
     "execution_count": 114,
     "metadata": {},
     "output_type": "execute_result"
    }
   ],
   "source": [
    "a = [1,3,5,7]\n",
    "a_sq = np.square(a)\n",
    "a_sq"
   ]
  },
  {
   "cell_type": "code",
   "execution_count": null,
   "metadata": {},
   "outputs": [
    {
     "data": {
      "text/plain": [
       "1.0"
      ]
     },
     "execution_count": 116,
     "metadata": {},
     "output_type": "execute_result"
    }
   ],
   "source": [
    "np.exp(0)#e의 0제곱"
   ]
  },
  {
   "cell_type": "code",
   "execution_count": null,
   "metadata": {},
   "outputs": [
    {
     "data": {
      "text/plain": [
       "54.598150033144236"
      ]
     },
     "execution_count": 118,
     "metadata": {},
     "output_type": "execute_result"
    }
   ],
   "source": [
    "np.exp(4)#e의 4제곱"
   ]
  },
  {
   "cell_type": "code",
   "execution_count": null,
   "metadata": {},
   "outputs": [
    {
     "data": {
      "text/plain": [
       "array([-5. , -4.9, -4.8, -4.7, -4.6, -4.5, -4.4, -4.3, -4.2, -4.1, -4. ,\n",
       "       -3.9, -3.8, -3.7, -3.6, -3.5, -3.4, -3.3, -3.2, -3.1, -3. , -2.9,\n",
       "       -2.8, -2.7, -2.6, -2.5, -2.4, -2.3, -2.2, -2.1, -2. , -1.9, -1.8,\n",
       "       -1.7, -1.6, -1.5, -1.4, -1.3, -1.2, -1.1, -1. , -0.9, -0.8, -0.7,\n",
       "       -0.6, -0.5, -0.4, -0.3, -0.2, -0.1,  0. ,  0.1,  0.2,  0.3,  0.4,\n",
       "        0.5,  0.6,  0.7,  0.8,  0.9,  1. ,  1.1,  1.2,  1.3,  1.4,  1.5,\n",
       "        1.6,  1.7,  1.8,  1.9,  2. ,  2.1,  2.2,  2.3,  2.4,  2.5,  2.6,\n",
       "        2.7,  2.8,  2.9,  3. ,  3.1,  3.2,  3.3,  3.4,  3.5,  3.6,  3.7,\n",
       "        3.8,  3.9,  4. ,  4.1,  4.2,  4.3,  4.4,  4.5,  4.6,  4.7,  4.8,\n",
       "        4.9,  5. ])"
      ]
     },
     "execution_count": 120,
     "metadata": {},
     "output_type": "execute_result"
    }
   ],
   "source": [
    "x = np.linspace(-5, 5, 101) #100개출력\n",
    "x"
   ]
  },
  {
   "cell_type": "code",
   "execution_count": null,
   "metadata": {},
   "outputs": [
    {
     "data": {
      "text/plain": [
       "array([1.48671951e-06, 2.43896075e-06, 3.96129909e-06, 6.36982518e-06,\n",
       "       1.01408521e-05, 1.59837411e-05, 2.49424713e-05, 3.85351967e-05,\n",
       "       5.89430678e-05, 8.92616572e-05, 1.33830226e-04, 1.98655471e-04,\n",
       "       2.91946926e-04, 4.24780271e-04, 6.11901930e-04, 8.72682695e-04,\n",
       "       1.23221917e-03, 1.72256894e-03, 2.38408820e-03, 3.26681906e-03,\n",
       "       4.43184841e-03, 5.95253242e-03, 7.91545158e-03, 1.04209348e-02,\n",
       "       1.35829692e-02, 1.75283005e-02, 2.23945303e-02, 2.83270377e-02,\n",
       "       3.54745928e-02, 4.39835960e-02, 5.39909665e-02, 6.56158148e-02,\n",
       "       7.89501583e-02, 9.40490774e-02, 1.10920835e-01, 1.29517596e-01,\n",
       "       1.49727466e-01, 1.71368592e-01, 1.94186055e-01, 2.17852177e-01,\n",
       "       2.41970725e-01, 2.66085250e-01, 2.89691553e-01, 3.12253933e-01,\n",
       "       3.33224603e-01, 3.52065327e-01, 3.68270140e-01, 3.81387815e-01,\n",
       "       3.91042694e-01, 3.96952547e-01, 3.98942280e-01, 3.96952547e-01,\n",
       "       3.91042694e-01, 3.81387815e-01, 3.68270140e-01, 3.52065327e-01,\n",
       "       3.33224603e-01, 3.12253933e-01, 2.89691553e-01, 2.66085250e-01,\n",
       "       2.41970725e-01, 2.17852177e-01, 1.94186055e-01, 1.71368592e-01,\n",
       "       1.49727466e-01, 1.29517596e-01, 1.10920835e-01, 9.40490774e-02,\n",
       "       7.89501583e-02, 6.56158148e-02, 5.39909665e-02, 4.39835960e-02,\n",
       "       3.54745928e-02, 2.83270377e-02, 2.23945303e-02, 1.75283005e-02,\n",
       "       1.35829692e-02, 1.04209348e-02, 7.91545158e-03, 5.95253242e-03,\n",
       "       4.43184841e-03, 3.26681906e-03, 2.38408820e-03, 1.72256894e-03,\n",
       "       1.23221917e-03, 8.72682695e-04, 6.11901930e-04, 4.24780271e-04,\n",
       "       2.91946926e-04, 1.98655471e-04, 1.33830226e-04, 8.92616572e-05,\n",
       "       5.89430678e-05, 3.85351967e-05, 2.49424713e-05, 1.59837411e-05,\n",
       "       1.01408521e-05, 6.36982518e-06, 3.96129909e-06, 2.43896075e-06,\n",
       "       1.48671951e-06])"
      ]
     },
     "execution_count": 122,
     "metadata": {},
     "output_type": "execute_result"
    }
   ],
   "source": [
    "y = (1 / np.sqrt(2*np.pi)) * np.exp(-x**2/2)\n",
    "y"
   ]
  },
  {
   "cell_type": "code",
   "execution_count": null,
   "metadata": {},
   "outputs": [
    {
     "data": {
      "text/plain": [
       "<function matplotlib.pyplot.show(close=None, block=None)>"
      ]
     },
     "execution_count": 125,
     "metadata": {},
     "output_type": "execute_result"
    },
    {
     "data": {
      "image/png": "[encoded data removed]",
      "text/plain": [
       "<Figure size 432x288 with 1 Axes>"
      ]
     },
     "metadata": {
      "needs_background": "light"
     },
     "output_type": "display_data"
    }
   ],
   "source": [
    "plt.plot(x, y)\n",
    "plt.xlabel(\"x\")\n",
    "plt.ylabel(\"y\")\n",
    "plt.show"
   ]
  },
  {
   "cell_type": "code",
   "execution_count": null,
   "metadata": {},
   "outputs": [],
   "source": [
    "import scipy.stats as stats"
   ]
  },
  {
   "cell_type": "code",
   "execution_count": null,
   "metadata": {},
   "outputs": [
    {
     "data": {
      "text/plain": [
       "array([1.48671951e-06, 2.43896075e-06, 3.96129909e-06, 6.36982518e-06,\n",
       "       1.01408521e-05, 1.59837411e-05, 2.49424713e-05, 3.85351967e-05,\n",
       "       5.89430678e-05, 8.92616572e-05, 1.33830226e-04, 1.98655471e-04,\n",
       "       2.91946926e-04, 4.24780271e-04, 6.11901930e-04, 8.72682695e-04,\n",
       "       1.23221917e-03, 1.72256894e-03, 2.38408820e-03, 3.26681906e-03,\n",
       "       4.43184841e-03, 5.95253242e-03, 7.91545158e-03, 1.04209348e-02,\n",
       "       1.35829692e-02, 1.75283005e-02, 2.23945303e-02, 2.83270377e-02,\n",
       "       3.54745928e-02, 4.39835960e-02, 5.39909665e-02, 6.56158148e-02,\n",
       "       7.89501583e-02, 9.40490774e-02, 1.10920835e-01, 1.29517596e-01,\n",
       "       1.49727466e-01, 1.71368592e-01, 1.94186055e-01, 2.17852177e-01,\n",
       "       2.41970725e-01, 2.66085250e-01, 2.89691553e-01, 3.12253933e-01,\n",
       "       3.33224603e-01, 3.52065327e-01, 3.68270140e-01, 3.81387815e-01,\n",
       "       3.91042694e-01, 3.96952547e-01, 3.98942280e-01, 3.96952547e-01,\n",
       "       3.91042694e-01, 3.81387815e-01, 3.68270140e-01, 3.52065327e-01,\n",
       "       3.33224603e-01, 3.12253933e-01, 2.89691553e-01, 2.66085250e-01,\n",
       "       2.41970725e-01, 2.17852177e-01, 1.94186055e-01, 1.71368592e-01,\n",
       "       1.49727466e-01, 1.29517596e-01, 1.10920835e-01, 9.40490774e-02,\n",
       "       7.89501583e-02, 6.56158148e-02, 5.39909665e-02, 4.39835960e-02,\n",
       "       3.54745928e-02, 2.83270377e-02, 2.23945303e-02, 1.75283005e-02,\n",
       "       1.35829692e-02, 1.04209348e-02, 7.91545158e-03, 5.95253242e-03,\n",
       "       4.43184841e-03, 3.26681906e-03, 2.38408820e-03, 1.72256894e-03,\n",
       "       1.23221917e-03, 8.72682695e-04, 6.11901930e-04, 4.24780271e-04,\n",
       "       2.91946926e-04, 1.98655471e-04, 1.33830226e-04, 8.92616572e-05,\n",
       "       5.89430678e-05, 3.85351967e-05, 2.49424713e-05, 1.59837411e-05,\n",
       "       1.01408521e-05, 6.36982518e-06, 3.96129909e-06, 2.43896075e-06,\n",
       "       1.48671951e-06])"
      ]
     },
     "execution_count": 127,
     "metadata": {},
     "output_type": "execute_result"
    }
   ],
   "source": [
    "y_ = stats.norm(0,1).pdf(x)\n",
    "y_"
   ]
  },
  {
   "cell_type": "code",
   "execution_count": null,
   "metadata": {},
   "outputs": [
    {
     "data": {
      "text/plain": [
       "<function matplotlib.pyplot.show(close=None, block=None)>"
      ]
     },
     "execution_count": 129,
     "metadata": {},
     "output_type": "execute_result"
    },
    {
     "data": {
      "image/png": "[encoded data removed]",
      "text/plain": [
       "<Figure size 432x288 with 1 Axes>"
      ]
     },
     "metadata": {
      "needs_background": "light"
     },
     "output_type": "display_data"
    }
   ],
   "source": [
    "plt.plot(x, y_)\n",
    "plt.xlabel('x')\n",
    "plt.ylabel('y')\n",
    "plt.show"
   ]
  },
  {
   "cell_type": "code",
   "execution_count": null,
   "metadata": {},
   "outputs": [
    {
     "data": {
      "image/png": "[encoded data removed]",
      "text/plain": [
       "<Figure size 432x288 with 1 Axes>"
      ]
     },
     "metadata": {
      "needs_background": "light"
     },
     "output_type": "display_data"
    }
   ],
   "source": [
    "def norm(_a, _b, _x):\n",
    "    return stats.norm(_a, _b).pdf(_x)\n",
    "\n",
    "x = np.linspace(-20, 20, 101)\n",
    "for i in range(1, 11, 1):\n",
    "    _y = norm(i, i, x)\n",
    "    plt.plot(x, _y)\n",
    "plt.show()"
   ]
  },
  {
   "cell_type": "code",
   "execution_count": null,
   "metadata": {},
   "outputs": [
    {
     "data": {
      "text/plain": [
       "array([3, 0, 4, 9, 0, 2, 0, 9, 4, 7])"
      ]
     },
     "execution_count": 175,
     "metadata": {},
     "output_type": "execute_result"
    }
   ],
   "source": [
    "x = np.random.randint(0,10,10)\n",
    "x"
   ]
  },
  {
   "cell_type": "code",
   "execution_count": null,
   "metadata": {},
   "outputs": [
    {
     "data": {
      "text/plain": [
       "(array([3., 0., 0., 0., 0., 0., 1., 0., 0., 0., 1., 0., 0., 2., 0., 0., 0.,\n",
       "        0., 0., 0., 0., 0., 0., 1., 0., 0., 0., 0., 0., 2.]),\n",
       " array([0. , 0.3, 0.6, 0.9, 1.2, 1.5, 1.8, 2.1, 2.4, 2.7, 3. , 3.3, 3.6,\n",
       "        3.9, 4.2, 4.5, 4.8, 5.1, 5.4, 5.7, 6. , 6.3, 6.6, 6.9, 7.2, 7.5,\n",
       "        7.8, 8.1, 8.4, 8.7, 9. ]),\n",
       " <BarContainer object of 30 artists>)"
      ]
     },
     "execution_count": 176,
     "metadata": {},
     "output_type": "execute_result"
    },
    {
     "data": {
      "image/png": "[encoded data removed]",
      "text/plain": [
       "<Figure size 432x288 with 1 Axes>"
      ]
     },
     "metadata": {
      "needs_background": "light"
     },
     "output_type": "display_data"
    }
   ],
   "source": [
    "plt.hist(x, bins=30)#주황색\n"
   ]
  },
  {
   "cell_type": "code",
   "execution_count": null,
   "metadata": {},
   "outputs": [
    {
     "data": {
      "text/plain": [
       "(array([ 3.,  3.,  4.,  5.,  7.,  7.,  7.,  8.,  8., 10.]),\n",
       " array([0. , 0.9, 1.8, 2.7, 3.6, 4.5, 5.4, 6.3, 7.2, 8.1, 9. ]),\n",
       " <BarContainer object of 10 artists>)"
      ]
     },
     "execution_count": 177,
     "metadata": {},
     "output_type": "execute_result"
    },
    {
     "data": {
      "image/png": "[encoded data removed]",
      "text/plain": [
       "<Figure size 432x288 with 1 Axes>"
      ]
     },
     "metadata": {
      "needs_background": "light"
     },
     "output_type": "display_data"
    }
   ],
   "source": [
    "plt.hist(x, cumulative=True)\n",
    "#누적분포 히스토그램"
   ]
  },
  {
   "cell_type": "code",
   "execution_count": null,
   "metadata": {},
   "outputs": [
    {
     "data": {
      "text/plain": [
       "(array([0.33333333, 0.        , 0.11111111, 0.11111111, 0.22222222,\n",
       "        0.        , 0.        , 0.11111111, 0.        , 0.22222222]),\n",
       " array([0. , 0.9, 1.8, 2.7, 3.6, 4.5, 5.4, 6.3, 7.2, 8.1, 9. ]),\n",
       " <BarContainer object of 10 artists>)"
      ]
     },
     "execution_count": 178,
     "metadata": {},
     "output_type": "execute_result"
    },
    {
     "data": {
      "image/png": "[encoded data removed]",
      "text/plain": [
       "<Figure size 432x288 with 1 Axes>"
      ]
     },
     "metadata": {
      "needs_background": "light"
     },
     "output_type": "display_data"
    }
   ],
   "source": [
    "plt.hist(x, density=True)"
   ]
  },
  {
   "cell_type": "code",
   "execution_count": null,
   "metadata": {},
   "outputs": [],
   "source": [
    "x = np.random.randint(10,50,5)\n",
    "labels = [\"A\", \"B\", \"C\", \"D\", \"E\"]\n"
   ]
  },
  {
   "cell_type": "code",
   "execution_count": null,
   "metadata": {},
   "outputs": [
    {
     "data": {
      "image/png": "[encoded data removed]",
      "text/plain": [
       "<Figure size 432x288 with 1 Axes>"
      ]
     },
     "metadata": {},
     "output_type": "display_data"
    }
   ],
   "source": [
    "explodes = [0, 0.10, 0.11, 0, 0.10]#중심점에서 떨여져서 출력\n",
    "plt.pie(x, autopct='%.1f%%', labels=labels, counterclock = False,\n",
    "explode=explodes)\n",
    "#소수점 첫째자리까지 % 출력, 반시계방향\n",
    "plt.show()"
   ]
  },
  {
   "cell_type": "code",
   "execution_count": null,
   "metadata": {},
   "outputs": [
    {
     "data": {
      "text/plain": [
       "(array([ 1.,  2.,  3.,  4.,  5.,  6.,  7.,  8.,  9., 10.]),\n",
       " array([0.60710689, 0.59245051, 0.5811267 , 0.69221456, 0.28630194,\n",
       "        0.83021967, 0.74422556, 0.7919291 , 0.53768271, 0.88340901]))"
      ]
     },
     "execution_count": 65,
     "metadata": {},
     "output_type": "execute_result"
    }
   ],
   "source": [
    "import numpy as np\n",
    "import matplotlib.pyplot as plt\n",
    "x = np.linspace(1,10,10)\n",
    "y = np.random.rand(10)\n",
    "x, y"
   ]
  },
  {
   "cell_type": "code",
   "execution_count": null,
   "metadata": {},
   "outputs": [
    {
     "data": {
      "image/png": "[encoded data removed]",
      "text/plain": [
       "<Figure size 432x288 with 1 Axes>"
      ]
     },
     "metadata": {
      "needs_background": "light"
     },
     "output_type": "display_data"
    }
   ],
   "source": [
    "plt.plot(x, y)\n",
    "plt.xticks(np.arange(min(x), max(x)+1, 1.0))\n",
    "plt.yticks(np.arange(min(y), max(y)+0.1, 0.1))\n",
    "plt.xlabel(\"X\")\n",
    "plt.ylabel(\"Y\")\n",
    "plt.legend(\"X\")\n",
    "plt.grid()\n",
    "plt.show()"
   ]
  },
  {
   "cell_type": "code",
   "execution_count": null,
   "metadata": {},
   "outputs": [
    {
     "data": {
      "text/plain": [
       "(array([0.12825639, 0.01990969, 0.40513949, 0.04846343, 0.46286667,\n",
       "        0.26308042, 0.76830965, 0.72199911, 0.73799468, 0.8418468 ]),\n",
       " array([ 1.,  2.,  3.,  4.,  5.,  6.,  7.,  8.,  9., 10.]))"
      ]
     },
     "execution_count": 67,
     "metadata": {},
     "output_type": "execute_result"
    }
   ],
   "source": [
    "y = np.linspace(1, 10, 10)\n",
    "x = np.random.rand(10)\n",
    "x, y"
   ]
  },
  {
   "cell_type": "code",
   "execution_count": null,
   "metadata": {},
   "outputs": [
    {
     "data": {
      "image/png": "[encoded data removed]",
      "text/plain": [
       "<Figure size 432x288 with 1 Axes>"
      ]
     },
     "metadata": {
      "needs_background": "light"
     },
     "output_type": "display_data"
    }
   ],
   "source": [
    "plt.barh(y, x)\n",
    "plt.savefig(\"test.png\", dpi=200, facecolor=\"red\")#이미지파일 저장"
   ]
  },
  {
   "cell_type": "code",
   "execution_count": null,
   "metadata": {},
   "outputs": [],
   "source": []
  }
 ],
 "metadata": {
  "interpreter": {
   "hash": "8f18b25899b5fa456ae2543be7a92f9915b07e120b54a2f8a451026f1c191586"
  },
  "kernelspec": {
   "display_name": "Python 3.9.8 64-bit",
   "language": "python",
   "name": "python3"
  },
  "language_info": {
   "codemirror_mode": {
    "name": "ipython",
    "version": 3
   },
   "file_extension": ".py",
   "mimetype": "text/x-python",
   "name": "python",
   "nbconvert_exporter": "python",
   "pygments_lexer": "ipython3",
   "version": "3.9.8"
  },
  "orig_nbformat": 4
 },
 "nbformat": 4,
 "nbformat_minor": 2
}

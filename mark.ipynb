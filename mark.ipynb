{
 "cells": [
  {
   "cell_type": "markdown",
   "metadata": {},
   "source": [
    "title_1\n",
    "=======\n",
    "sub_title\n",
    "-------\n",
    "\n",
    "# h1\n",
    "### h3\n",
    "###### h6\n",
    "\n",
    "> hi\n",
    ">   >hello\n",
    ">   >   >안녕\n",
    "\n"
   ]
  },
  {
   "cell_type": "markdown",
   "metadata": {},
   "source": [
    "## list\n",
    "\n",
    "1. first\n",
    "2. second\n",
    "3. third\n",
    "\n",
    "* list1\n",
    "    * list2\n",
    "        * list3\n",
    "            * list4\n",
    "                + list5\n",
    "                    - list6"
   ]
  },
  {
   "cell_type": "markdown",
   "metadata": {},
   "source": [
    "### code\n",
    "```python\n",
    "i = 0\n",
    "i + 1\n",
    "print(i)\n",
    "```\n",
    "code end"
   ]
  },
  {
   "cell_type": "markdown",
   "metadata": {},
   "source": [
    "----------------------------\n",
    "*****************************\n"
   ]
  },
  {
   "cell_type": "markdown",
   "metadata": {},
   "source": [
    "[Google][googlelink]\n",
    "\n",
    "[googlelink]: https://www.google.com \"go goolge\""
   ]
  },
  {
   "cell_type": "markdown",
   "metadata": {},
   "source": [
    "![Alt text](http://cdn.edujin.co.kr/news/photo/202105/35768_68227_247.jpg)\n",
    "\n",
    "<img src = \"http://cdn.edujin.co.kr/news/photo/202105/35768_68227_247.jpg\" width=\"40%\">"
   ]
  },
  {
   "cell_type": "markdown",
   "metadata": {},
   "source": []
  }
 ],
 "metadata": {
  "language_info": {
   "name": "python"
  },
  "orig_nbformat": 4
 },
 "nbformat": 4,
 "nbformat_minor": 2
}
